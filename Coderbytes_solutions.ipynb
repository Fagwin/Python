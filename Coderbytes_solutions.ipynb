{
  "nbformat": 4,
  "nbformat_minor": 0,
  "metadata": {
    "colab": {
      "provenance": [],
      "authorship_tag": "ABX9TyMsl9Giel//Nj/icCJ9DKX1",
      "include_colab_link": true
    },
    "kernelspec": {
      "name": "python3",
      "display_name": "Python 3"
    },
    "language_info": {
      "name": "python"
    }
  },
  "cells": [
    {
      "cell_type": "markdown",
      "metadata": {
        "id": "view-in-github",
        "colab_type": "text"
      },
      "source": [
        "<a href=\"https://colab.research.google.com/github/Fagwin/Python/blob/main/Coderbytes_solutions.ipynb\" target=\"_parent\"><img src=\"https://colab.research.google.com/assets/colab-badge.svg\" alt=\"Open In Colab\"/></a>"
      ]
    },
    {
      "cell_type": "markdown",
      "source": [
        "Have the function Consecutive(arr) take the array of integers stored in arr and return the minimum number of integers needed to make the contents of arr consecutive from the lowest number to the highest number. For example: If arr contains [4, 8, 6] then the output should be 2 because two numbers need to be added to the array (5 and 7) to make it a consecutive array of numbers from 4 to 8. Negative numbers may be entered as parameters and no array will have less than 2 elements.\n"
      ],
      "metadata": {
        "id": "4LG9DF9ZzPoJ"
      }
    },
    {
      "cell_type": "code",
      "execution_count": null,
      "metadata": {
        "id": "h-mXHk4nzEdZ"
      },
      "outputs": [],
      "source": [
        "def Consecutive(arr):\n",
        "  #arr is arry of integer\n",
        "  \n",
        "  #Check the edges of integers in arr\n",
        "  minInt = arr[0]\n",
        "  maxInt = arr[0]\n",
        "  for x in arr :\n",
        "    if x <= minInt :\n",
        "      minInt = x\n",
        "    elif x >= maxInt :\n",
        "      maxInt = x\n",
        "  \n",
        "  #Get all consecutive intergers \n",
        "  all = list(range(minInt, maxInt+1))\n",
        "  #Get the minimum number of element to add in arr to have all consecutive numbers\n",
        "  num = 0\n",
        "  for a in all :\n",
        "    if not a in arr : \n",
        "      num += 1\n",
        "\n",
        "  return num"
      ]
    },
    {
      "cell_type": "code",
      "source": [
        "Consecutive([4, 8, 6])"
      ],
      "metadata": {
        "colab": {
          "base_uri": "https://localhost:8080/"
        },
        "id": "KTkiIIlo1UwQ",
        "outputId": "a460742d-3b02-4b96-f299-5e0da79e087e"
      },
      "execution_count": null,
      "outputs": [
        {
          "output_type": "execute_result",
          "data": {
            "text/plain": [
              "2"
            ]
          },
          "metadata": {},
          "execution_count": 10
        }
      ]
    },
    {
      "cell_type": "markdown",
      "source": [
        "Have the function LargestFour(arr) take the array of integers stored in arr, and find the four largest elements and return their sum. For example: if arr is [4, 5, -2, 3, 1, 2, 6, 6] then the four largest elements in this array are 6, 6, 4, and 5 and the total sum of these numbers is 21, so your program should return 21. If there are less than four numbers in the array your program should return the sum of all the numbers in the array."
      ],
      "metadata": {
        "id": "d0RsNzUe2FkO"
      }
    },
    {
      "cell_type": "code",
      "source": [
        "def LargestFour(arr) :\n",
        "  #Sort elements in arr asc\n",
        "  sortArr = sorted(arr)\n",
        "  sortArr = sortArr[::-1] #Get the inverse of sorting result\n",
        "\n",
        "  #Get the sum\n",
        "  #First check if len(arr) >= 4\n",
        "  sum = 0\n",
        "  if len(arr) >= 4:\n",
        "    for i in range(4):\n",
        "      sum += sortArr[i]\n",
        "  else:\n",
        "    for e in sortArr:\n",
        "      sum += e\n",
        "\n",
        "  return sum"
      ],
      "metadata": {
        "id": "be7ByYq82eLT"
      },
      "execution_count": null,
      "outputs": []
    },
    {
      "cell_type": "code",
      "source": [
        "LargestFour([4, 5, -2, 3, 1, 2, 6, 6])"
      ],
      "metadata": {
        "colab": {
          "base_uri": "https://localhost:8080/"
        },
        "id": "sB8pOJJU4Wxq",
        "outputId": "ff1fa1d3-2156-4b69-8383-63c26569ddb8"
      },
      "execution_count": null,
      "outputs": [
        {
          "output_type": "execute_result",
          "data": {
            "text/plain": [
              "21"
            ]
          },
          "metadata": {},
          "execution_count": 13
        }
      ]
    },
    {
      "cell_type": "markdown",
      "source": [
        "Print all of the numbers from 1 to n. However, for any number divisible by three, print the word “Fizz,” for any number divisible by five, print the word “Buzz,” and for any number divisible by both three and five, print the word “FizzBuzz.”"
      ],
      "metadata": {
        "id": "81nsSfpE40ys"
      }
    },
    {
      "cell_type": "code",
      "source": [
        "def fizzbuzz(n):\n",
        "  #Create an array for result\n",
        "  result = []\n",
        "\n",
        "  for i in range(1, n+1):\n",
        "    if i % 3 == 0 and i % 5 != 0:\n",
        "      result.append(\"Fizz\")\n",
        "    elif i % 3 != 0 and i % 5 == 0:\n",
        "      result.append(\"Buzz\")\n",
        "    elif i % 3 == 0 and i % 5 == 0:\n",
        "      result.append(\"FizzBuzz\")\n",
        "    else:\n",
        "      result.append(i)\n",
        "\n",
        "  return result"
      ],
      "metadata": {
        "id": "SL813pub4ief"
      },
      "execution_count": null,
      "outputs": []
    },
    {
      "cell_type": "code",
      "source": [
        "fizzbuzz(20)"
      ],
      "metadata": {
        "colab": {
          "base_uri": "https://localhost:8080/"
        },
        "id": "JnOrWZXo79LK",
        "outputId": "b91ba121-b272-44d1-ec31-a5c5506dc312"
      },
      "execution_count": null,
      "outputs": [
        {
          "output_type": "execute_result",
          "data": {
            "text/plain": [
              "[1,\n",
              " 2,\n",
              " 'Fizz',\n",
              " 4,\n",
              " 'Buzz',\n",
              " 'Fizz',\n",
              " 7,\n",
              " 8,\n",
              " 'Fizz',\n",
              " 'Buzz',\n",
              " 11,\n",
              " 'Fizz',\n",
              " 13,\n",
              " 14,\n",
              " 'FizzBuzz',\n",
              " 16,\n",
              " 17,\n",
              " 'Fizz',\n",
              " 19,\n",
              " 'Buzz']"
            ]
          },
          "metadata": {},
          "execution_count": 3
        }
      ]
    },
    {
      "cell_type": "markdown",
      "source": [
        "Two Sum Problem \n",
        "\n",
        "Question: An array and a number A is given. Determine if any two numbers within the array sum to A."
      ],
      "metadata": {
        "id": "1yg3VyLG8lry"
      }
    },
    {
      "cell_type": "code",
      "source": [
        "def TwoSum (arr, A):\n",
        "  #Variable boolean for result\n",
        "  ans = False\n",
        "\n",
        "  for i in range(len(arr)):\n",
        "    for j in range(len(arr)):\n",
        "      if i != j:\n",
        "        if arr[i]+arr[j] == A:\n",
        "          ans = True\n",
        "        else:\n",
        "          ans = False\n",
        "\n",
        "  return ans"
      ],
      "metadata": {
        "id": "qgcVsLlQ8tFY"
      },
      "execution_count": null,
      "outputs": []
    },
    {
      "cell_type": "code",
      "source": [],
      "metadata": {
        "id": "Cfmy9CofDY8u"
      },
      "execution_count": null,
      "outputs": []
    }
  ]
}